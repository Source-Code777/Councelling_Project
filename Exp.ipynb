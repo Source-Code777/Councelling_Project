{
 "cells": [
  {
   "metadata": {},
   "cell_type": "markdown",
   "source": "#LOADING THE DATA USING PANDAS WEB SCRAPPER",
   "id": "e8bcc6cf4d90970f"
  },
  {
   "cell_type": "code",
   "id": "initial_id",
   "metadata": {
    "collapsed": true,
    "ExecuteTime": {
     "end_time": "2025-09-09T11:55:12.136320Z",
     "start_time": "2025-09-09T11:55:04.904355Z"
    }
   },
   "source": [
    "from Load_Data import Data\n",
    "import pandas as pd\n",
    "\n",
    "url_23 = \"https://admissions.nic.in/wbjeeb/Applicant/report/orcrreport.aspx?enc=b6w3EPyuw0C4FADZ4v1XmYUz0XFq314fzLjkE3wbM2xr/DbsjpvUS9LBCKXjSeSL\"\n",
    "url_24 = \"https://admissions.nic.in/wbjeeb/Applicant/report/orcrreport.aspx?enc=Nm7QwHILXclJQSv2YVS+7l8OpFY/O746kfneOXEneV50mv1B/txHsSKB11hFlsvw\"\n",
    "\n",
    "data = Data(url_23, url_24)\n",
    "df = data.load_data()\n",
    "df.head()"
   ],
   "outputs": [
    {
     "data": {
      "text/plain": [
       "   Sr.No    Round                                          Institute  \\\n",
       "0      1  Round 1  Govt. College of Engg. & Textile Technology, B...   \n",
       "1      2  Round 1  Govt. College of Engineering & Textile Technol...   \n",
       "2      3  Round 1  Goverment College of Engineering and Leather T...   \n",
       "3      4  Round 1  Goverment College of Engineering and Leather T...   \n",
       "4      5  Round 1  Goverment College of Engineering and Leather T...   \n",
       "\n",
       "                    Program                            Stream    Seat Type  \\\n",
       "0  Textile Technology (TFW)  B.E/B.Tech/B.Arch (WBJEE) Seats)  WBJEE Seats   \n",
       "1  Textile Technology (TFW)  B.E/B.Tech/B.Arch (WBJEE) Seats)  WBJEE Seats   \n",
       "2        Leather Technology  B.E/B.Tech/B.Arch (WBJEE) Seats)  WBJEE Seats   \n",
       "3        Leather Technology  B.E/B.Tech/B.Arch (WBJEE) Seats)  WBJEE Seats   \n",
       "4        Leather Technology  B.E/B.Tech/B.Arch (WBJEE) Seats)  WBJEE Seats   \n",
       "\n",
       "        Quota            Category  Opening Rank  Closing Rank  \n",
       "0  Home State  Tuition Fee Waiver         15646         16893  \n",
       "1  Home State  Tuition Fee Waiver          8471         17571  \n",
       "2  Home State             OBC - B         17065         17794  \n",
       "3  Home State                  SC         17582         23649  \n",
       "4  Home State                  ST         52409         78492  "
      ],
      "text/html": [
       "<div>\n",
       "<style scoped>\n",
       "    .dataframe tbody tr th:only-of-type {\n",
       "        vertical-align: middle;\n",
       "    }\n",
       "\n",
       "    .dataframe tbody tr th {\n",
       "        vertical-align: top;\n",
       "    }\n",
       "\n",
       "    .dataframe thead th {\n",
       "        text-align: right;\n",
       "    }\n",
       "</style>\n",
       "<table border=\"1\" class=\"dataframe\">\n",
       "  <thead>\n",
       "    <tr style=\"text-align: right;\">\n",
       "      <th></th>\n",
       "      <th>Sr.No</th>\n",
       "      <th>Round</th>\n",
       "      <th>Institute</th>\n",
       "      <th>Program</th>\n",
       "      <th>Stream</th>\n",
       "      <th>Seat Type</th>\n",
       "      <th>Quota</th>\n",
       "      <th>Category</th>\n",
       "      <th>Opening Rank</th>\n",
       "      <th>Closing Rank</th>\n",
       "    </tr>\n",
       "  </thead>\n",
       "  <tbody>\n",
       "    <tr>\n",
       "      <th>0</th>\n",
       "      <td>1</td>\n",
       "      <td>Round 1</td>\n",
       "      <td>Govt. College of Engg. &amp; Textile Technology, B...</td>\n",
       "      <td>Textile Technology (TFW)</td>\n",
       "      <td>B.E/B.Tech/B.Arch (WBJEE) Seats)</td>\n",
       "      <td>WBJEE Seats</td>\n",
       "      <td>Home State</td>\n",
       "      <td>Tuition Fee Waiver</td>\n",
       "      <td>15646</td>\n",
       "      <td>16893</td>\n",
       "    </tr>\n",
       "    <tr>\n",
       "      <th>1</th>\n",
       "      <td>2</td>\n",
       "      <td>Round 1</td>\n",
       "      <td>Govt. College of Engineering &amp; Textile Technol...</td>\n",
       "      <td>Textile Technology (TFW)</td>\n",
       "      <td>B.E/B.Tech/B.Arch (WBJEE) Seats)</td>\n",
       "      <td>WBJEE Seats</td>\n",
       "      <td>Home State</td>\n",
       "      <td>Tuition Fee Waiver</td>\n",
       "      <td>8471</td>\n",
       "      <td>17571</td>\n",
       "    </tr>\n",
       "    <tr>\n",
       "      <th>2</th>\n",
       "      <td>3</td>\n",
       "      <td>Round 1</td>\n",
       "      <td>Goverment College of Engineering and Leather T...</td>\n",
       "      <td>Leather Technology</td>\n",
       "      <td>B.E/B.Tech/B.Arch (WBJEE) Seats)</td>\n",
       "      <td>WBJEE Seats</td>\n",
       "      <td>Home State</td>\n",
       "      <td>OBC - B</td>\n",
       "      <td>17065</td>\n",
       "      <td>17794</td>\n",
       "    </tr>\n",
       "    <tr>\n",
       "      <th>3</th>\n",
       "      <td>4</td>\n",
       "      <td>Round 1</td>\n",
       "      <td>Goverment College of Engineering and Leather T...</td>\n",
       "      <td>Leather Technology</td>\n",
       "      <td>B.E/B.Tech/B.Arch (WBJEE) Seats)</td>\n",
       "      <td>WBJEE Seats</td>\n",
       "      <td>Home State</td>\n",
       "      <td>SC</td>\n",
       "      <td>17582</td>\n",
       "      <td>23649</td>\n",
       "    </tr>\n",
       "    <tr>\n",
       "      <th>4</th>\n",
       "      <td>5</td>\n",
       "      <td>Round 1</td>\n",
       "      <td>Goverment College of Engineering and Leather T...</td>\n",
       "      <td>Leather Technology</td>\n",
       "      <td>B.E/B.Tech/B.Arch (WBJEE) Seats)</td>\n",
       "      <td>WBJEE Seats</td>\n",
       "      <td>Home State</td>\n",
       "      <td>ST</td>\n",
       "      <td>52409</td>\n",
       "      <td>78492</td>\n",
       "    </tr>\n",
       "  </tbody>\n",
       "</table>\n",
       "</div>"
      ]
     },
     "execution_count": 1,
     "metadata": {},
     "output_type": "execute_result"
    }
   ],
   "execution_count": 1
  },
  {
   "metadata": {
    "ExecuteTime": {
     "end_time": "2025-09-09T11:55:12.240104Z",
     "start_time": "2025-09-09T11:55:12.171488Z"
    }
   },
   "cell_type": "code",
   "source": [
    "from Helper_data import Data_Mapping\n",
    "\n",
    "pre = Data_Mapping()\n",
    "df= pre.preprocess_dataframe(df)\n",
    "df.sample(5)"
   ],
   "id": "2dbd648fc18cc9d1",
   "outputs": [
    {
     "data": {
      "text/plain": [
       "     Round                                       College_Name  \\\n",
       "1976     2        Asansol Engineering College Asansol Burdwan   \n",
       "5487     1  Bankura Unnayani Institute of Engineering Bankura   \n",
       "7586     3         Future Institute of Technology Boral Garia   \n",
       "7841     3                                Jadavpur University   \n",
       "5293     1           Heritage Institute of Technology Kolkata   \n",
       "\n",
       "                                                 Branch    Domicile  \\\n",
       "1976             Electronics  Communication Engineering   All India   \n",
       "5487                      Computer Science  Engineering   All India   \n",
       "7586  Internet Of Things And Cyber Security Includin...  Home State   \n",
       "7841       Food Technology And Bio Chemical Engineering   All India   \n",
       "5293                                      Biotechnology   All India   \n",
       "\n",
       "             Reservation  Closing Rank Branch_short  \n",
       "1976                Open         92492          ECE  \n",
       "5487                Open         62758          CSE  \n",
       "7586  Tuition Fee Waiver         45640          CSE  \n",
       "7841                Open          1603     CHEMICAL  \n",
       "5293                Open         92442     BIO-TECH  "
      ],
      "text/html": [
       "<div>\n",
       "<style scoped>\n",
       "    .dataframe tbody tr th:only-of-type {\n",
       "        vertical-align: middle;\n",
       "    }\n",
       "\n",
       "    .dataframe tbody tr th {\n",
       "        vertical-align: top;\n",
       "    }\n",
       "\n",
       "    .dataframe thead th {\n",
       "        text-align: right;\n",
       "    }\n",
       "</style>\n",
       "<table border=\"1\" class=\"dataframe\">\n",
       "  <thead>\n",
       "    <tr style=\"text-align: right;\">\n",
       "      <th></th>\n",
       "      <th>Round</th>\n",
       "      <th>College_Name</th>\n",
       "      <th>Branch</th>\n",
       "      <th>Domicile</th>\n",
       "      <th>Reservation</th>\n",
       "      <th>Closing Rank</th>\n",
       "      <th>Branch_short</th>\n",
       "    </tr>\n",
       "  </thead>\n",
       "  <tbody>\n",
       "    <tr>\n",
       "      <th>1976</th>\n",
       "      <td>2</td>\n",
       "      <td>Asansol Engineering College Asansol Burdwan</td>\n",
       "      <td>Electronics  Communication Engineering</td>\n",
       "      <td>All India</td>\n",
       "      <td>Open</td>\n",
       "      <td>92492</td>\n",
       "      <td>ECE</td>\n",
       "    </tr>\n",
       "    <tr>\n",
       "      <th>5487</th>\n",
       "      <td>1</td>\n",
       "      <td>Bankura Unnayani Institute of Engineering Bankura</td>\n",
       "      <td>Computer Science  Engineering</td>\n",
       "      <td>All India</td>\n",
       "      <td>Open</td>\n",
       "      <td>62758</td>\n",
       "      <td>CSE</td>\n",
       "    </tr>\n",
       "    <tr>\n",
       "      <th>7586</th>\n",
       "      <td>3</td>\n",
       "      <td>Future Institute of Technology Boral Garia</td>\n",
       "      <td>Internet Of Things And Cyber Security Includin...</td>\n",
       "      <td>Home State</td>\n",
       "      <td>Tuition Fee Waiver</td>\n",
       "      <td>45640</td>\n",
       "      <td>CSE</td>\n",
       "    </tr>\n",
       "    <tr>\n",
       "      <th>7841</th>\n",
       "      <td>3</td>\n",
       "      <td>Jadavpur University</td>\n",
       "      <td>Food Technology And Bio Chemical Engineering</td>\n",
       "      <td>All India</td>\n",
       "      <td>Open</td>\n",
       "      <td>1603</td>\n",
       "      <td>CHEMICAL</td>\n",
       "    </tr>\n",
       "    <tr>\n",
       "      <th>5293</th>\n",
       "      <td>1</td>\n",
       "      <td>Heritage Institute of Technology Kolkata</td>\n",
       "      <td>Biotechnology</td>\n",
       "      <td>All India</td>\n",
       "      <td>Open</td>\n",
       "      <td>92442</td>\n",
       "      <td>BIO-TECH</td>\n",
       "    </tr>\n",
       "  </tbody>\n",
       "</table>\n",
       "</div>"
      ]
     },
     "execution_count": 2,
     "metadata": {},
     "output_type": "execute_result"
    }
   ],
   "execution_count": 2
  },
  {
   "metadata": {
    "ExecuteTime": {
     "end_time": "2025-09-09T11:55:12.956289Z",
     "start_time": "2025-09-09T11:55:12.376733Z"
    }
   },
   "cell_type": "code",
   "source": [
    "from Pre_Processing import ManualClassification\n",
    "from Feature_Engineering import ManualClassification\n",
    "\n",
    "feature=ManualClassification()\n",
    "df_ccl = feature.classify_dataframe(df, \"College_Name\")"
   ],
   "id": "c394c5ee7662a17",
   "outputs": [],
   "execution_count": 3
  },
  {
   "metadata": {
    "ExecuteTime": {
     "end_time": "2025-09-09T11:55:12.971020Z",
     "start_time": "2025-09-09T11:55:12.963700Z"
    }
   },
   "cell_type": "code",
   "source": "df_ccl.sample(5)",
   "id": "ab8b5d6d040e1575",
   "outputs": [
    {
     "data": {
      "text/plain": [
       "     Round                                       College_Name  \\\n",
       "6131     2  Gargi Memorial Institute of Technology Baruipu...   \n",
       "1150     1  Future Institute of Engineering & Management S...   \n",
       "1972     2        Asansol Engineering College Asansol Burdwan   \n",
       "3458     3       Meghnad Saha Institute of Technology Kolkata   \n",
       "3067     3  Ghani Khan Choudhury Institute of Engineering ...   \n",
       "\n",
       "                                      Branch    Domicile         Reservation  \\\n",
       "6131  Electronics  Communication Engineering  Home State  Tuition Fee Waiver   \n",
       "1150  Electronics  Communication Engineering  Home State  Tuition Fee Waiver   \n",
       "1972           Computer Science  Engineering   All India                Open   \n",
       "3458           Computer Science  Engineering   All India                Open   \n",
       "3067                  Mechanical Engineering  Home State                  SC   \n",
       "\n",
       "      Closing Rank Branch_short college_type  \n",
       "6131         41150          ECE      Private  \n",
       "1150         24385          ECE      Private  \n",
       "1972        159087          CSE      Private  \n",
       "3458        216052          CSE      Private  \n",
       "3067         68325   MECHANICAL   Government  "
      ],
      "text/html": [
       "<div>\n",
       "<style scoped>\n",
       "    .dataframe tbody tr th:only-of-type {\n",
       "        vertical-align: middle;\n",
       "    }\n",
       "\n",
       "    .dataframe tbody tr th {\n",
       "        vertical-align: top;\n",
       "    }\n",
       "\n",
       "    .dataframe thead th {\n",
       "        text-align: right;\n",
       "    }\n",
       "</style>\n",
       "<table border=\"1\" class=\"dataframe\">\n",
       "  <thead>\n",
       "    <tr style=\"text-align: right;\">\n",
       "      <th></th>\n",
       "      <th>Round</th>\n",
       "      <th>College_Name</th>\n",
       "      <th>Branch</th>\n",
       "      <th>Domicile</th>\n",
       "      <th>Reservation</th>\n",
       "      <th>Closing Rank</th>\n",
       "      <th>Branch_short</th>\n",
       "      <th>college_type</th>\n",
       "    </tr>\n",
       "  </thead>\n",
       "  <tbody>\n",
       "    <tr>\n",
       "      <th>6131</th>\n",
       "      <td>2</td>\n",
       "      <td>Gargi Memorial Institute of Technology Baruipu...</td>\n",
       "      <td>Electronics  Communication Engineering</td>\n",
       "      <td>Home State</td>\n",
       "      <td>Tuition Fee Waiver</td>\n",
       "      <td>41150</td>\n",
       "      <td>ECE</td>\n",
       "      <td>Private</td>\n",
       "    </tr>\n",
       "    <tr>\n",
       "      <th>1150</th>\n",
       "      <td>1</td>\n",
       "      <td>Future Institute of Engineering &amp; Management S...</td>\n",
       "      <td>Electronics  Communication Engineering</td>\n",
       "      <td>Home State</td>\n",
       "      <td>Tuition Fee Waiver</td>\n",
       "      <td>24385</td>\n",
       "      <td>ECE</td>\n",
       "      <td>Private</td>\n",
       "    </tr>\n",
       "    <tr>\n",
       "      <th>1972</th>\n",
       "      <td>2</td>\n",
       "      <td>Asansol Engineering College Asansol Burdwan</td>\n",
       "      <td>Computer Science  Engineering</td>\n",
       "      <td>All India</td>\n",
       "      <td>Open</td>\n",
       "      <td>159087</td>\n",
       "      <td>CSE</td>\n",
       "      <td>Private</td>\n",
       "    </tr>\n",
       "    <tr>\n",
       "      <th>3458</th>\n",
       "      <td>3</td>\n",
       "      <td>Meghnad Saha Institute of Technology Kolkata</td>\n",
       "      <td>Computer Science  Engineering</td>\n",
       "      <td>All India</td>\n",
       "      <td>Open</td>\n",
       "      <td>216052</td>\n",
       "      <td>CSE</td>\n",
       "      <td>Private</td>\n",
       "    </tr>\n",
       "    <tr>\n",
       "      <th>3067</th>\n",
       "      <td>3</td>\n",
       "      <td>Ghani Khan Choudhury Institute of Engineering ...</td>\n",
       "      <td>Mechanical Engineering</td>\n",
       "      <td>Home State</td>\n",
       "      <td>SC</td>\n",
       "      <td>68325</td>\n",
       "      <td>MECHANICAL</td>\n",
       "      <td>Government</td>\n",
       "    </tr>\n",
       "  </tbody>\n",
       "</table>\n",
       "</div>"
      ]
     },
     "execution_count": 4,
     "metadata": {},
     "output_type": "execute_result"
    }
   ],
   "execution_count": 4
  },
  {
   "metadata": {
    "ExecuteTime": {
     "end_time": "2025-09-09T11:55:13.003537Z",
     "start_time": "2025-09-09T11:55:13.000022Z"
    }
   },
   "cell_type": "code",
   "source": "df_ccl=df_ccl.drop([\"Branch\",\"College_Name\"],axis=1)",
   "id": "6a04335d08e6beb2",
   "outputs": [],
   "execution_count": 5
  },
  {
   "metadata": {
    "ExecuteTime": {
     "end_time": "2025-09-09T11:55:13.067998Z",
     "start_time": "2025-09-09T11:55:13.061354Z"
    }
   },
   "cell_type": "code",
   "source": "df_ccl.sample(5)",
   "id": "15701d1265da030f",
   "outputs": [
    {
     "data": {
      "text/plain": [
       "     Round    Domicile         Reservation  Closing Rank Branch_short  \\\n",
       "5290     1  Home State                 EWS         76855          CSE   \n",
       "964      1  Home State                  ST         39199   MECHANICAL   \n",
       "5114     1  Home State                 EWS         30744          CSE   \n",
       "6077     2  Home State  Tuition Fee Waiver         44074           EE   \n",
       "5945     2   All India                Open        116205           EE   \n",
       "\n",
       "     college_type  \n",
       "5290      Private  \n",
       "964    Government  \n",
       "5114      Private  \n",
       "6077      Private  \n",
       "5945   Government  "
      ],
      "text/html": [
       "<div>\n",
       "<style scoped>\n",
       "    .dataframe tbody tr th:only-of-type {\n",
       "        vertical-align: middle;\n",
       "    }\n",
       "\n",
       "    .dataframe tbody tr th {\n",
       "        vertical-align: top;\n",
       "    }\n",
       "\n",
       "    .dataframe thead th {\n",
       "        text-align: right;\n",
       "    }\n",
       "</style>\n",
       "<table border=\"1\" class=\"dataframe\">\n",
       "  <thead>\n",
       "    <tr style=\"text-align: right;\">\n",
       "      <th></th>\n",
       "      <th>Round</th>\n",
       "      <th>Domicile</th>\n",
       "      <th>Reservation</th>\n",
       "      <th>Closing Rank</th>\n",
       "      <th>Branch_short</th>\n",
       "      <th>college_type</th>\n",
       "    </tr>\n",
       "  </thead>\n",
       "  <tbody>\n",
       "    <tr>\n",
       "      <th>5290</th>\n",
       "      <td>1</td>\n",
       "      <td>Home State</td>\n",
       "      <td>EWS</td>\n",
       "      <td>76855</td>\n",
       "      <td>CSE</td>\n",
       "      <td>Private</td>\n",
       "    </tr>\n",
       "    <tr>\n",
       "      <th>964</th>\n",
       "      <td>1</td>\n",
       "      <td>Home State</td>\n",
       "      <td>ST</td>\n",
       "      <td>39199</td>\n",
       "      <td>MECHANICAL</td>\n",
       "      <td>Government</td>\n",
       "    </tr>\n",
       "    <tr>\n",
       "      <th>5114</th>\n",
       "      <td>1</td>\n",
       "      <td>Home State</td>\n",
       "      <td>EWS</td>\n",
       "      <td>30744</td>\n",
       "      <td>CSE</td>\n",
       "      <td>Private</td>\n",
       "    </tr>\n",
       "    <tr>\n",
       "      <th>6077</th>\n",
       "      <td>2</td>\n",
       "      <td>Home State</td>\n",
       "      <td>Tuition Fee Waiver</td>\n",
       "      <td>44074</td>\n",
       "      <td>EE</td>\n",
       "      <td>Private</td>\n",
       "    </tr>\n",
       "    <tr>\n",
       "      <th>5945</th>\n",
       "      <td>2</td>\n",
       "      <td>All India</td>\n",
       "      <td>Open</td>\n",
       "      <td>116205</td>\n",
       "      <td>EE</td>\n",
       "      <td>Government</td>\n",
       "    </tr>\n",
       "  </tbody>\n",
       "</table>\n",
       "</div>"
      ]
     },
     "execution_count": 6,
     "metadata": {},
     "output_type": "execute_result"
    }
   ],
   "execution_count": 6
  },
  {
   "metadata": {
    "ExecuteTime": {
     "end_time": "2025-09-09T11:55:13.198699Z",
     "start_time": "2025-09-09T11:55:13.128651Z"
    }
   },
   "cell_type": "code",
   "source": [
    "from Models import Logistic_Model_class\n",
    "lm=Logistic_Model_class()\n",
    "Y_ccl=df_ccl[\"college_type\"]\n",
    "X_ccl=df_ccl.drop([\"college_type\"],axis=1)\n",
    "lm.train(X_ccl,Y_ccl)"
   ],
   "id": "30b127608f9475e2",
   "outputs": [],
   "execution_count": 7
  },
  {
   "metadata": {
    "ExecuteTime": {
     "end_time": "2025-09-09T11:55:13.235049Z",
     "start_time": "2025-09-09T11:55:13.227262Z"
    }
   },
   "cell_type": "code",
   "source": "y_pred_lm=lm.predict()",
   "id": "b64c9465a9e3a829",
   "outputs": [],
   "execution_count": 8
  },
  {
   "metadata": {
    "ExecuteTime": {
     "end_time": "2025-09-09T11:55:13.272646Z",
     "start_time": "2025-09-09T11:55:13.255133Z"
    }
   },
   "cell_type": "code",
   "source": "lm.evaluate()",
   "id": "a3a58d90e6dd8f13",
   "outputs": [
    {
     "name": "stdout",
     "output_type": "stream",
     "text": [
      "accuracy:\n",
      "0.9085855466337245\n",
      "\n",
      "precision:\n",
      "0.9083527585643631\n",
      "\n",
      "recall:\n",
      "0.9085855466337245\n",
      "\n",
      "f1_score:\n",
      "0.9084167474088496\n",
      "\n",
      "confusion_matrix:\n",
      "[[545, 80], [68, 926]]\n",
      "\n",
      "classification_report:\n",
      "              precision    recall  f1-score   support\n",
      "\n",
      "           0       0.89      0.87      0.88       625\n",
      "           1       0.92      0.93      0.93       994\n",
      "\n",
      "    accuracy                           0.91      1619\n",
      "   macro avg       0.90      0.90      0.90      1619\n",
      "weighted avg       0.91      0.91      0.91      1619\n",
      "\n",
      "\n"
     ]
    }
   ],
   "execution_count": 9
  },
  {
   "metadata": {
    "ExecuteTime": {
     "end_time": "2025-09-09T11:55:13.329606Z",
     "start_time": "2025-09-09T11:55:13.281679Z"
    }
   },
   "cell_type": "code",
   "source": [
    "from Models import DecisionTree_Model\n",
    "\n",
    "tree_clf=DecisionTree_Model()\n",
    "tree_clf.train(X_ccl,Y_ccl)"
   ],
   "id": "7ded686cc54f68b9",
   "outputs": [],
   "execution_count": 10
  },
  {
   "metadata": {
    "ExecuteTime": {
     "end_time": "2025-09-09T11:55:13.342510Z",
     "start_time": "2025-09-09T11:55:13.334179Z"
    }
   },
   "cell_type": "code",
   "source": "y_pred_tree=tree_clf.predict()",
   "id": "fba9fd483c9842d7",
   "outputs": [],
   "execution_count": 11
  },
  {
   "metadata": {
    "ExecuteTime": {
     "end_time": "2025-09-09T11:55:35.580476Z",
     "start_time": "2025-09-09T11:55:35.569039Z"
    }
   },
   "cell_type": "code",
   "source": "tree_clf.predict()",
   "id": "593a7e3fce468c3a",
   "outputs": [
    {
     "data": {
      "text/plain": [
       "array([0, 0, 1, ..., 1, 1, 1], shape=(1619,))"
      ]
     },
     "execution_count": 13,
     "metadata": {},
     "output_type": "execute_result"
    }
   ],
   "execution_count": 13
  },
  {
   "metadata": {
    "ExecuteTime": {
     "end_time": "2025-09-09T11:56:39.499313Z",
     "start_time": "2025-09-09T11:56:39.485381Z"
    }
   },
   "cell_type": "code",
   "source": "metrics=tree_clf.evaluate()",
   "id": "9824fd90146462d3",
   "outputs": [],
   "execution_count": 16
  },
  {
   "metadata": {
    "ExecuteTime": {
     "end_time": "2025-09-09T11:56:52.774978Z",
     "start_time": "2025-09-09T11:56:52.772260Z"
    }
   },
   "cell_type": "code",
   "source": "tree_clf.print_metrics(metrics)",
   "id": "7d0d051d2567a49d",
   "outputs": [
    {
     "name": "stdout",
     "output_type": "stream",
     "text": [
      "accuracy:\n",
      "0.8943792464484249\n",
      "\n",
      "precision:\n",
      "0.8942906983703116\n",
      "\n",
      "recall:\n",
      "0.8943792464484249\n",
      "\n",
      "f1_score:\n",
      "0.8943317702711592\n",
      "\n",
      "confusion_matrix:\n",
      "[[538, 87], [84, 910]]\n",
      "\n",
      "classification_report:\n",
      "              precision    recall  f1-score   support\n",
      "\n",
      "           0       0.86      0.86      0.86       625\n",
      "           1       0.91      0.92      0.91       994\n",
      "\n",
      "    accuracy                           0.89      1619\n",
      "   macro avg       0.89      0.89      0.89      1619\n",
      "weighted avg       0.89      0.89      0.89      1619\n",
      "\n",
      "\n"
     ]
    }
   ],
   "execution_count": 17
  },
  {
   "metadata": {},
   "cell_type": "code",
   "outputs": [],
   "execution_count": null,
   "source": "",
   "id": "3e1c36161696dad"
  }
 ],
 "metadata": {
  "kernelspec": {
   "display_name": "Python 3",
   "language": "python",
   "name": "python3"
  },
  "language_info": {
   "codemirror_mode": {
    "name": "ipython",
    "version": 2
   },
   "file_extension": ".py",
   "mimetype": "text/x-python",
   "name": "python",
   "nbconvert_exporter": "python",
   "pygments_lexer": "ipython2",
   "version": "2.7.6"
  }
 },
 "nbformat": 4,
 "nbformat_minor": 5
}
