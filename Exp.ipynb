{
 "cells": [
  {
   "metadata": {},
   "cell_type": "markdown",
   "source": "#LOADING THE DATA USING PANDAS WEB SCRAPPER",
   "id": "e8bcc6cf4d90970f"
  },
  {
   "cell_type": "code",
   "id": "initial_id",
   "metadata": {
    "collapsed": true,
    "ExecuteTime": {
     "end_time": "2025-09-16T19:45:14.596994Z",
     "start_time": "2025-09-16T19:45:07.277010Z"
    }
   },
   "source": [
    "from Load_Data import Data\n",
    "import pandas as pd\n",
    "from sklearn.linear_model import LogisticRegression\n",
    "\n",
    "url_23 = \"https://admissions.nic.in/wbjeeb/Applicant/report/orcrreport.aspx?enc=b6w3EPyuw0C4FADZ4v1XmYUz0XFq314fzLjkE3wbM2xr/DbsjpvUS9LBCKXjSeSL\"\n",
    "url_24 = \"https://admissions.nic.in/wbjeeb/Applicant/report/orcrreport.aspx?enc=Nm7QwHILXclJQSv2YVS+7l8OpFY/O746kfneOXEneV50mv1B/txHsSKB11hFlsvw\"\n",
    "\n",
    "data = Data(url_23, url_24)\n",
    "df = data.load_data()\n",
    "df.head()"
   ],
   "outputs": [
    {
     "data": {
      "text/plain": [
       "   Sr.No    Round                                          Institute  \\\n",
       "0      1  Round 1  Govt. College of Engg. & Textile Technology, B...   \n",
       "1      2  Round 1  Govt. College of Engineering & Textile Technol...   \n",
       "2      3  Round 1  Goverment College of Engineering and Leather T...   \n",
       "3      4  Round 1  Goverment College of Engineering and Leather T...   \n",
       "4      5  Round 1  Goverment College of Engineering and Leather T...   \n",
       "\n",
       "                    Program                            Stream    Seat Type  \\\n",
       "0  Textile Technology (TFW)  B.E/B.Tech/B.Arch (WBJEE) Seats)  WBJEE Seats   \n",
       "1  Textile Technology (TFW)  B.E/B.Tech/B.Arch (WBJEE) Seats)  WBJEE Seats   \n",
       "2        Leather Technology  B.E/B.Tech/B.Arch (WBJEE) Seats)  WBJEE Seats   \n",
       "3        Leather Technology  B.E/B.Tech/B.Arch (WBJEE) Seats)  WBJEE Seats   \n",
       "4        Leather Technology  B.E/B.Tech/B.Arch (WBJEE) Seats)  WBJEE Seats   \n",
       "\n",
       "        Quota            Category  Opening Rank  Closing Rank  \n",
       "0  Home State  Tuition Fee Waiver         15646         16893  \n",
       "1  Home State  Tuition Fee Waiver          8471         17571  \n",
       "2  Home State             OBC - B         17065         17794  \n",
       "3  Home State                  SC         17582         23649  \n",
       "4  Home State                  ST         52409         78492  "
      ],
      "text/html": [
       "<div>\n",
       "<style scoped>\n",
       "    .dataframe tbody tr th:only-of-type {\n",
       "        vertical-align: middle;\n",
       "    }\n",
       "\n",
       "    .dataframe tbody tr th {\n",
       "        vertical-align: top;\n",
       "    }\n",
       "\n",
       "    .dataframe thead th {\n",
       "        text-align: right;\n",
       "    }\n",
       "</style>\n",
       "<table border=\"1\" class=\"dataframe\">\n",
       "  <thead>\n",
       "    <tr style=\"text-align: right;\">\n",
       "      <th></th>\n",
       "      <th>Sr.No</th>\n",
       "      <th>Round</th>\n",
       "      <th>Institute</th>\n",
       "      <th>Program</th>\n",
       "      <th>Stream</th>\n",
       "      <th>Seat Type</th>\n",
       "      <th>Quota</th>\n",
       "      <th>Category</th>\n",
       "      <th>Opening Rank</th>\n",
       "      <th>Closing Rank</th>\n",
       "    </tr>\n",
       "  </thead>\n",
       "  <tbody>\n",
       "    <tr>\n",
       "      <th>0</th>\n",
       "      <td>1</td>\n",
       "      <td>Round 1</td>\n",
       "      <td>Govt. College of Engg. &amp; Textile Technology, B...</td>\n",
       "      <td>Textile Technology (TFW)</td>\n",
       "      <td>B.E/B.Tech/B.Arch (WBJEE) Seats)</td>\n",
       "      <td>WBJEE Seats</td>\n",
       "      <td>Home State</td>\n",
       "      <td>Tuition Fee Waiver</td>\n",
       "      <td>15646</td>\n",
       "      <td>16893</td>\n",
       "    </tr>\n",
       "    <tr>\n",
       "      <th>1</th>\n",
       "      <td>2</td>\n",
       "      <td>Round 1</td>\n",
       "      <td>Govt. College of Engineering &amp; Textile Technol...</td>\n",
       "      <td>Textile Technology (TFW)</td>\n",
       "      <td>B.E/B.Tech/B.Arch (WBJEE) Seats)</td>\n",
       "      <td>WBJEE Seats</td>\n",
       "      <td>Home State</td>\n",
       "      <td>Tuition Fee Waiver</td>\n",
       "      <td>8471</td>\n",
       "      <td>17571</td>\n",
       "    </tr>\n",
       "    <tr>\n",
       "      <th>2</th>\n",
       "      <td>3</td>\n",
       "      <td>Round 1</td>\n",
       "      <td>Goverment College of Engineering and Leather T...</td>\n",
       "      <td>Leather Technology</td>\n",
       "      <td>B.E/B.Tech/B.Arch (WBJEE) Seats)</td>\n",
       "      <td>WBJEE Seats</td>\n",
       "      <td>Home State</td>\n",
       "      <td>OBC - B</td>\n",
       "      <td>17065</td>\n",
       "      <td>17794</td>\n",
       "    </tr>\n",
       "    <tr>\n",
       "      <th>3</th>\n",
       "      <td>4</td>\n",
       "      <td>Round 1</td>\n",
       "      <td>Goverment College of Engineering and Leather T...</td>\n",
       "      <td>Leather Technology</td>\n",
       "      <td>B.E/B.Tech/B.Arch (WBJEE) Seats)</td>\n",
       "      <td>WBJEE Seats</td>\n",
       "      <td>Home State</td>\n",
       "      <td>SC</td>\n",
       "      <td>17582</td>\n",
       "      <td>23649</td>\n",
       "    </tr>\n",
       "    <tr>\n",
       "      <th>4</th>\n",
       "      <td>5</td>\n",
       "      <td>Round 1</td>\n",
       "      <td>Goverment College of Engineering and Leather T...</td>\n",
       "      <td>Leather Technology</td>\n",
       "      <td>B.E/B.Tech/B.Arch (WBJEE) Seats)</td>\n",
       "      <td>WBJEE Seats</td>\n",
       "      <td>Home State</td>\n",
       "      <td>ST</td>\n",
       "      <td>52409</td>\n",
       "      <td>78492</td>\n",
       "    </tr>\n",
       "  </tbody>\n",
       "</table>\n",
       "</div>"
      ]
     },
     "execution_count": 1,
     "metadata": {},
     "output_type": "execute_result"
    }
   ],
   "execution_count": 1
  },
  {
   "metadata": {
    "ExecuteTime": {
     "end_time": "2025-09-16T19:45:14.706550Z",
     "start_time": "2025-09-16T19:45:14.634553Z"
    }
   },
   "cell_type": "code",
   "source": [
    "from Helper_data import Data_Mapping\n",
    "\n",
    "pre = Data_Mapping()\n",
    "df= pre.preprocess_dataframe(df)\n",
    "df.sample(5)"
   ],
   "id": "2dbd648fc18cc9d1",
   "outputs": [
    {
     "data": {
      "text/plain": [
       "     Round                                       College_Name  \\\n",
       "6924     2  ALIPURDUAR GOVERNMENT ENGINEERING AND MANAGEME...   \n",
       "7209     3  Haldia Institute of Technology Haldia Purba Me...   \n",
       "6758     2  UNIVERSITY INSTITUTE OF TECHNOLOGY BURDWAN UNI...   \n",
       "2618     2                             University Of Calcutta   \n",
       "7888     3                                Jadavpur University   \n",
       "\n",
       "                             Branch    Domicile         Reservation  \\\n",
       "6924         Electrical Engineering  Home State                Open   \n",
       "7209              Civil Engineering  Home State  Tuition Fee Waiver   \n",
       "6758         Information Technology  Home State             OBC - B   \n",
       "2618           Chemical Engineering   All India                Open   \n",
       "7888  Computer Science  Engineering  Home State                  SC   \n",
       "\n",
       "      Closing Rank Branch_short  \n",
       "6924         18900           EE  \n",
       "7209         34161        CIVIL  \n",
       "6758         11966           IT  \n",
       "2618          2701     CHEMICAL  \n",
       "7888          1471          CSE  "
      ],
      "text/html": [
       "<div>\n",
       "<style scoped>\n",
       "    .dataframe tbody tr th:only-of-type {\n",
       "        vertical-align: middle;\n",
       "    }\n",
       "\n",
       "    .dataframe tbody tr th {\n",
       "        vertical-align: top;\n",
       "    }\n",
       "\n",
       "    .dataframe thead th {\n",
       "        text-align: right;\n",
       "    }\n",
       "</style>\n",
       "<table border=\"1\" class=\"dataframe\">\n",
       "  <thead>\n",
       "    <tr style=\"text-align: right;\">\n",
       "      <th></th>\n",
       "      <th>Round</th>\n",
       "      <th>College_Name</th>\n",
       "      <th>Branch</th>\n",
       "      <th>Domicile</th>\n",
       "      <th>Reservation</th>\n",
       "      <th>Closing Rank</th>\n",
       "      <th>Branch_short</th>\n",
       "    </tr>\n",
       "  </thead>\n",
       "  <tbody>\n",
       "    <tr>\n",
       "      <th>6924</th>\n",
       "      <td>2</td>\n",
       "      <td>ALIPURDUAR GOVERNMENT ENGINEERING AND MANAGEME...</td>\n",
       "      <td>Electrical Engineering</td>\n",
       "      <td>Home State</td>\n",
       "      <td>Open</td>\n",
       "      <td>18900</td>\n",
       "      <td>EE</td>\n",
       "    </tr>\n",
       "    <tr>\n",
       "      <th>7209</th>\n",
       "      <td>3</td>\n",
       "      <td>Haldia Institute of Technology Haldia Purba Me...</td>\n",
       "      <td>Civil Engineering</td>\n",
       "      <td>Home State</td>\n",
       "      <td>Tuition Fee Waiver</td>\n",
       "      <td>34161</td>\n",
       "      <td>CIVIL</td>\n",
       "    </tr>\n",
       "    <tr>\n",
       "      <th>6758</th>\n",
       "      <td>2</td>\n",
       "      <td>UNIVERSITY INSTITUTE OF TECHNOLOGY BURDWAN UNI...</td>\n",
       "      <td>Information Technology</td>\n",
       "      <td>Home State</td>\n",
       "      <td>OBC - B</td>\n",
       "      <td>11966</td>\n",
       "      <td>IT</td>\n",
       "    </tr>\n",
       "    <tr>\n",
       "      <th>2618</th>\n",
       "      <td>2</td>\n",
       "      <td>University Of Calcutta</td>\n",
       "      <td>Chemical Engineering</td>\n",
       "      <td>All India</td>\n",
       "      <td>Open</td>\n",
       "      <td>2701</td>\n",
       "      <td>CHEMICAL</td>\n",
       "    </tr>\n",
       "    <tr>\n",
       "      <th>7888</th>\n",
       "      <td>3</td>\n",
       "      <td>Jadavpur University</td>\n",
       "      <td>Computer Science  Engineering</td>\n",
       "      <td>Home State</td>\n",
       "      <td>SC</td>\n",
       "      <td>1471</td>\n",
       "      <td>CSE</td>\n",
       "    </tr>\n",
       "  </tbody>\n",
       "</table>\n",
       "</div>"
      ]
     },
     "execution_count": 2,
     "metadata": {},
     "output_type": "execute_result"
    }
   ],
   "execution_count": 2
  },
  {
   "metadata": {
    "ExecuteTime": {
     "end_time": "2025-09-16T19:45:14.885890Z",
     "start_time": "2025-09-16T19:45:14.801161Z"
    }
   },
   "cell_type": "code",
   "source": [
    "from Pre_Processing import ManualClassification\n",
    "from Feature_Engineering import ManualClassification\n",
    "\n",
    "feature=ManualClassification()\n",
    "df_ccl = feature.classify_dataframe(df, \"College_Name\")"
   ],
   "id": "c394c5ee7662a17",
   "outputs": [],
   "execution_count": 3
  },
  {
   "metadata": {
    "ExecuteTime": {
     "end_time": "2025-09-16T19:45:14.900659Z",
     "start_time": "2025-09-16T19:45:14.894426Z"
    }
   },
   "cell_type": "code",
   "source": "df_ccl.sample(5)",
   "id": "ab8b5d6d040e1575",
   "outputs": [
    {
     "data": {
      "text/plain": [
       "     Round                                       College_Name  \\\n",
       "1693     1                JAKIR HOSSAIN INSTITUTE OF PHARMACY   \n",
       "333      1  Camellia School of Engineering & Technology Ba...   \n",
       "454      1  Future Institute of Engineering & Management S...   \n",
       "1594     1           Techno Main Salt Lake Sector-V Salt Lake   \n",
       "520      1          Siliguri Institute of Technology Siliguri   \n",
       "\n",
       "                                    Branch    Domicile         Reservation  \\\n",
       "1693       BPharmPharmaceutical Technology  Home State  Tuition Fee Waiver   \n",
       "333          Computer Science  Engineering   All India                Open   \n",
       "454          Computer Science  Engineering   All India                Open   \n",
       "1594  Computer Science And Business System  Home State  Tuition Fee Waiver   \n",
       "520          Computer Science  Engineering   All India                Open   \n",
       "\n",
       "      Closing Rank Branch_short college_type  \n",
       "1693         25413        Other      Private  \n",
       "333          84787          CSE      Private  \n",
       "454          29523          CSE      Private  \n",
       "1594          8437          CSE      Private  \n",
       "520          71223          CSE      Private  "
      ],
      "text/html": [
       "<div>\n",
       "<style scoped>\n",
       "    .dataframe tbody tr th:only-of-type {\n",
       "        vertical-align: middle;\n",
       "    }\n",
       "\n",
       "    .dataframe tbody tr th {\n",
       "        vertical-align: top;\n",
       "    }\n",
       "\n",
       "    .dataframe thead th {\n",
       "        text-align: right;\n",
       "    }\n",
       "</style>\n",
       "<table border=\"1\" class=\"dataframe\">\n",
       "  <thead>\n",
       "    <tr style=\"text-align: right;\">\n",
       "      <th></th>\n",
       "      <th>Round</th>\n",
       "      <th>College_Name</th>\n",
       "      <th>Branch</th>\n",
       "      <th>Domicile</th>\n",
       "      <th>Reservation</th>\n",
       "      <th>Closing Rank</th>\n",
       "      <th>Branch_short</th>\n",
       "      <th>college_type</th>\n",
       "    </tr>\n",
       "  </thead>\n",
       "  <tbody>\n",
       "    <tr>\n",
       "      <th>1693</th>\n",
       "      <td>1</td>\n",
       "      <td>JAKIR HOSSAIN INSTITUTE OF PHARMACY</td>\n",
       "      <td>BPharmPharmaceutical Technology</td>\n",
       "      <td>Home State</td>\n",
       "      <td>Tuition Fee Waiver</td>\n",
       "      <td>25413</td>\n",
       "      <td>Other</td>\n",
       "      <td>Private</td>\n",
       "    </tr>\n",
       "    <tr>\n",
       "      <th>333</th>\n",
       "      <td>1</td>\n",
       "      <td>Camellia School of Engineering &amp; Technology Ba...</td>\n",
       "      <td>Computer Science  Engineering</td>\n",
       "      <td>All India</td>\n",
       "      <td>Open</td>\n",
       "      <td>84787</td>\n",
       "      <td>CSE</td>\n",
       "      <td>Private</td>\n",
       "    </tr>\n",
       "    <tr>\n",
       "      <th>454</th>\n",
       "      <td>1</td>\n",
       "      <td>Future Institute of Engineering &amp; Management S...</td>\n",
       "      <td>Computer Science  Engineering</td>\n",
       "      <td>All India</td>\n",
       "      <td>Open</td>\n",
       "      <td>29523</td>\n",
       "      <td>CSE</td>\n",
       "      <td>Private</td>\n",
       "    </tr>\n",
       "    <tr>\n",
       "      <th>1594</th>\n",
       "      <td>1</td>\n",
       "      <td>Techno Main Salt Lake Sector-V Salt Lake</td>\n",
       "      <td>Computer Science And Business System</td>\n",
       "      <td>Home State</td>\n",
       "      <td>Tuition Fee Waiver</td>\n",
       "      <td>8437</td>\n",
       "      <td>CSE</td>\n",
       "      <td>Private</td>\n",
       "    </tr>\n",
       "    <tr>\n",
       "      <th>520</th>\n",
       "      <td>1</td>\n",
       "      <td>Siliguri Institute of Technology Siliguri</td>\n",
       "      <td>Computer Science  Engineering</td>\n",
       "      <td>All India</td>\n",
       "      <td>Open</td>\n",
       "      <td>71223</td>\n",
       "      <td>CSE</td>\n",
       "      <td>Private</td>\n",
       "    </tr>\n",
       "  </tbody>\n",
       "</table>\n",
       "</div>"
      ]
     },
     "execution_count": 4,
     "metadata": {},
     "output_type": "execute_result"
    }
   ],
   "execution_count": 4
  },
  {
   "metadata": {
    "ExecuteTime": {
     "end_time": "2025-09-16T19:45:14.940354Z",
     "start_time": "2025-09-16T19:45:14.937167Z"
    }
   },
   "cell_type": "code",
   "source": "df_ccl=df_ccl.drop([\"Branch\",\"College_Name\"],axis=1)",
   "id": "6a04335d08e6beb2",
   "outputs": [],
   "execution_count": 5
  },
  {
   "metadata": {
    "ExecuteTime": {
     "end_time": "2025-09-16T19:45:15.015874Z",
     "start_time": "2025-09-16T19:45:15.002704Z"
    }
   },
   "cell_type": "code",
   "source": "df_ccl.sample(5)",
   "id": "15701d1265da030f",
   "outputs": [
    {
     "data": {
      "text/plain": [
       "     Round    Domicile Reservation  Closing Rank Branch_short college_type\n",
       "5924     2  Home State          ST         88950           EE   Government\n",
       "6561     2   All India        Open        100938   MECHANICAL      Private\n",
       "3363     3   All India        Open        412420        Other   Government\n",
       "5479     1   All India        Open        109531          CSE      Private\n",
       "2674     2   All India        Open         11961          ECE   Government"
      ],
      "text/html": [
       "<div>\n",
       "<style scoped>\n",
       "    .dataframe tbody tr th:only-of-type {\n",
       "        vertical-align: middle;\n",
       "    }\n",
       "\n",
       "    .dataframe tbody tr th {\n",
       "        vertical-align: top;\n",
       "    }\n",
       "\n",
       "    .dataframe thead th {\n",
       "        text-align: right;\n",
       "    }\n",
       "</style>\n",
       "<table border=\"1\" class=\"dataframe\">\n",
       "  <thead>\n",
       "    <tr style=\"text-align: right;\">\n",
       "      <th></th>\n",
       "      <th>Round</th>\n",
       "      <th>Domicile</th>\n",
       "      <th>Reservation</th>\n",
       "      <th>Closing Rank</th>\n",
       "      <th>Branch_short</th>\n",
       "      <th>college_type</th>\n",
       "    </tr>\n",
       "  </thead>\n",
       "  <tbody>\n",
       "    <tr>\n",
       "      <th>5924</th>\n",
       "      <td>2</td>\n",
       "      <td>Home State</td>\n",
       "      <td>ST</td>\n",
       "      <td>88950</td>\n",
       "      <td>EE</td>\n",
       "      <td>Government</td>\n",
       "    </tr>\n",
       "    <tr>\n",
       "      <th>6561</th>\n",
       "      <td>2</td>\n",
       "      <td>All India</td>\n",
       "      <td>Open</td>\n",
       "      <td>100938</td>\n",
       "      <td>MECHANICAL</td>\n",
       "      <td>Private</td>\n",
       "    </tr>\n",
       "    <tr>\n",
       "      <th>3363</th>\n",
       "      <td>3</td>\n",
       "      <td>All India</td>\n",
       "      <td>Open</td>\n",
       "      <td>412420</td>\n",
       "      <td>Other</td>\n",
       "      <td>Government</td>\n",
       "    </tr>\n",
       "    <tr>\n",
       "      <th>5479</th>\n",
       "      <td>1</td>\n",
       "      <td>All India</td>\n",
       "      <td>Open</td>\n",
       "      <td>109531</td>\n",
       "      <td>CSE</td>\n",
       "      <td>Private</td>\n",
       "    </tr>\n",
       "    <tr>\n",
       "      <th>2674</th>\n",
       "      <td>2</td>\n",
       "      <td>All India</td>\n",
       "      <td>Open</td>\n",
       "      <td>11961</td>\n",
       "      <td>ECE</td>\n",
       "      <td>Government</td>\n",
       "    </tr>\n",
       "  </tbody>\n",
       "</table>\n",
       "</div>"
      ]
     },
     "execution_count": 6,
     "metadata": {},
     "output_type": "execute_result"
    }
   ],
   "execution_count": 6
  },
  {
   "metadata": {
    "ExecuteTime": {
     "end_time": "2025-09-16T19:45:15.218475Z",
     "start_time": "2025-09-16T19:45:15.116619Z"
    }
   },
   "cell_type": "code",
   "source": [
    "from Models_ccl import Logistic_Model_class, GradientBoosting_Model\n",
    "\n",
    "lm=Logistic_Model_class()\n",
    "Y_ccl=df_ccl[\"college_type\"]\n",
    "X_ccl=df_ccl.drop([\"college_type\"],axis=1)\n",
    "lm.train(X_ccl,Y_ccl)"
   ],
   "id": "30b127608f9475e2",
   "outputs": [],
   "execution_count": 7
  },
  {
   "metadata": {
    "ExecuteTime": {
     "end_time": "2025-09-16T19:45:15.255747Z",
     "start_time": "2025-09-16T19:45:15.247644Z"
    }
   },
   "cell_type": "code",
   "source": "y_pred_lm=lm.predict()",
   "id": "b64c9465a9e3a829",
   "outputs": [],
   "execution_count": 8
  },
  {
   "metadata": {
    "ExecuteTime": {
     "end_time": "2025-09-16T19:45:15.293545Z",
     "start_time": "2025-09-16T19:45:15.277709Z"
    }
   },
   "cell_type": "code",
   "source": "lm.evaluate()",
   "id": "a3a58d90e6dd8f13",
   "outputs": [
    {
     "name": "stdout",
     "output_type": "stream",
     "text": [
      "accuracy:\n",
      "0.9085855466337245\n",
      "\n",
      "precision:\n",
      "0.9083527585643631\n",
      "\n",
      "recall:\n",
      "0.9085855466337245\n",
      "\n",
      "f1_score:\n",
      "0.9084167474088496\n",
      "\n",
      "confusion_matrix:\n",
      "[[545, 80], [68, 926]]\n",
      "\n",
      "classification_report:\n",
      "              precision    recall  f1-score   support\n",
      "\n",
      "           0       0.89      0.87      0.88       625\n",
      "           1       0.92      0.93      0.93       994\n",
      "\n",
      "    accuracy                           0.91      1619\n",
      "   macro avg       0.90      0.90      0.90      1619\n",
      "weighted avg       0.91      0.91      0.91      1619\n",
      "\n",
      "\n"
     ]
    }
   ],
   "execution_count": 9
  },
  {
   "metadata": {
    "ExecuteTime": {
     "end_time": "2025-09-16T19:45:15.374549Z",
     "start_time": "2025-09-16T19:45:15.309943Z"
    }
   },
   "cell_type": "code",
   "source": [
    "from Models_ccl import DecisionTree_Model\n",
    "\n",
    "tree_clf=DecisionTree_Model()\n",
    "tree_clf.train(X_ccl,Y_ccl)"
   ],
   "id": "7ded686cc54f68b9",
   "outputs": [],
   "execution_count": 10
  },
  {
   "metadata": {
    "ExecuteTime": {
     "end_time": "2025-09-16T19:45:15.387611Z",
     "start_time": "2025-09-16T19:45:15.381207Z"
    }
   },
   "cell_type": "code",
   "source": "y_pred_tree=tree_clf.predict()",
   "id": "fba9fd483c9842d7",
   "outputs": [],
   "execution_count": 11
  },
  {
   "metadata": {
    "ExecuteTime": {
     "end_time": "2025-09-16T19:45:15.403408Z",
     "start_time": "2025-09-16T19:45:15.393743Z"
    }
   },
   "cell_type": "code",
   "source": "tree_clf.predict()",
   "id": "593a7e3fce468c3a",
   "outputs": [
    {
     "data": {
      "text/plain": [
       "array([0, 0, 1, ..., 1, 1, 1], shape=(1619,))"
      ]
     },
     "execution_count": 12,
     "metadata": {},
     "output_type": "execute_result"
    }
   ],
   "execution_count": 12
  },
  {
   "metadata": {
    "ExecuteTime": {
     "end_time": "2025-09-16T19:45:15.423109Z",
     "start_time": "2025-09-16T19:45:15.409045Z"
    }
   },
   "cell_type": "code",
   "source": "metrics=tree_clf.evaluate()",
   "id": "9824fd90146462d3",
   "outputs": [],
   "execution_count": 13
  },
  {
   "metadata": {
    "ExecuteTime": {
     "end_time": "2025-09-16T19:45:15.432265Z",
     "start_time": "2025-09-16T19:45:15.429334Z"
    }
   },
   "cell_type": "code",
   "source": "tree_clf.print_metrics(metrics)",
   "id": "7d0d051d2567a49d",
   "outputs": [
    {
     "name": "stdout",
     "output_type": "stream",
     "text": [
      "accuracy:\n",
      "0.8943792464484249\n",
      "\n",
      "precision:\n",
      "0.8942906983703116\n",
      "\n",
      "recall:\n",
      "0.8943792464484249\n",
      "\n",
      "f1_score:\n",
      "0.8943317702711592\n",
      "\n",
      "confusion_matrix:\n",
      "[[538, 87], [84, 910]]\n",
      "\n",
      "classification_report:\n",
      "              precision    recall  f1-score   support\n",
      "\n",
      "           0       0.86      0.86      0.86       625\n",
      "           1       0.91      0.92      0.91       994\n",
      "\n",
      "    accuracy                           0.89      1619\n",
      "   macro avg       0.89      0.89      0.89      1619\n",
      "weighted avg       0.89      0.89      0.89      1619\n",
      "\n",
      "\n"
     ]
    }
   ],
   "execution_count": 14
  },
  {
   "metadata": {
    "ExecuteTime": {
     "end_time": "2025-09-16T19:45:16.421342Z",
     "start_time": "2025-09-16T19:45:15.442730Z"
    }
   },
   "cell_type": "code",
   "source": [
    "from Models_ccl import RandomForest_Model\n",
    "rf=RandomForest_Model()\n",
    "rf.train(X_ccl,Y_ccl)"
   ],
   "id": "3e1c36161696dad",
   "outputs": [],
   "execution_count": 15
  },
  {
   "metadata": {
    "ExecuteTime": {
     "end_time": "2025-09-16T19:45:16.509722Z",
     "start_time": "2025-09-16T19:45:16.487650Z"
    }
   },
   "cell_type": "code",
   "source": "rf.predict()",
   "id": "b3e33feddf1e862e",
   "outputs": [
    {
     "data": {
      "text/plain": [
       "array([0, 0, 1, ..., 1, 1, 0], shape=(1619,))"
      ]
     },
     "execution_count": 16,
     "metadata": {},
     "output_type": "execute_result"
    }
   ],
   "execution_count": 16
  },
  {
   "metadata": {
    "ExecuteTime": {
     "end_time": "2025-09-16T19:45:16.544340Z",
     "start_time": "2025-09-16T19:45:16.516231Z"
    }
   },
   "cell_type": "code",
   "source": "rf_metrics=rf.evaluate()",
   "id": "32567aad17c40238",
   "outputs": [],
   "execution_count": 17
  },
  {
   "metadata": {
    "ExecuteTime": {
     "end_time": "2025-09-16T19:45:16.553880Z",
     "start_time": "2025-09-16T19:45:16.551234Z"
    }
   },
   "cell_type": "code",
   "source": "rf.print_metrics(rf_metrics)",
   "id": "b7c09ab4a9fa7150",
   "outputs": [
    {
     "name": "stdout",
     "output_type": "stream",
     "text": [
      "accuracy:\n",
      "0.9092032118591723\n",
      "\n",
      "precision:\n",
      "0.9093540618717814\n",
      "\n",
      "recall:\n",
      "0.9092032118591723\n",
      "\n",
      "f1_score:\n",
      "0.9092696129836373\n",
      "\n",
      "confusion_matrix:\n",
      "[[554, 71], [76, 918]]\n",
      "\n",
      "classification_report:\n",
      "              precision    recall  f1-score   support\n",
      "\n",
      "           0       0.88      0.89      0.88       625\n",
      "           1       0.93      0.92      0.93       994\n",
      "\n",
      "    accuracy                           0.91      1619\n",
      "   macro avg       0.90      0.90      0.90      1619\n",
      "weighted avg       0.91      0.91      0.91      1619\n",
      "\n",
      "\n"
     ]
    }
   ],
   "execution_count": 18
  },
  {
   "metadata": {
    "ExecuteTime": {
     "end_time": "2025-09-16T19:45:16.567921Z",
     "start_time": "2025-09-16T19:45:16.564277Z"
    }
   },
   "cell_type": "code",
   "source": [
    "from sklearn.linear_model import LogisticRegression\n",
    "from sklearn.tree import DecisionTreeClassifier\n",
    "from sklearn.ensemble import RandomForestClassifier, GradientBoostingClassifier\n",
    "\n",
    "# ✅ Clean param grid for GridSearchCV\n",
    "model_and_params = {\n",
    "    \"Logistic Regression\": (\n",
    "        LogisticRegression(max_iter=1000, random_state=42),\n",
    "        {\n",
    "            \"classifier__C\": [0.1, 0.5, 1, 1.5, 10],\n",
    "            \"classifier__solver\": [\"saga\", \"lbfgs\"],\n",
    "        },\n",
    "    ),\n",
    "    \"Decision Tree\": (\n",
    "        DecisionTreeClassifier(random_state=42),\n",
    "        {\n",
    "            \"classifier__criterion\": [\"gini\", \"entropy\", \"log_loss\"],\n",
    "            \"classifier__splitter\": [\"best\", \"random\"],\n",
    "            \"classifier__max_depth\": [1, 2, 3, 4, None],\n",
    "            \"classifier__min_samples_split\": [50, 100, 150, 200],\n",
    "            \"classifier__min_samples_leaf\": [50, 150, 200],\n",
    "        },\n",
    "    ),\n",
    "    \"Random Forest\": (\n",
    "        RandomForestClassifier(random_state=42),\n",
    "        {\n",
    "            \"classifier__criterion\": [\"gini\", \"entropy\", \"log_loss\"],\n",
    "            \"classifier__max_depth\": [1, 2, 3, 4, None],\n",
    "            \"classifier__min_samples_split\": [50, 100, 150, 200],\n",
    "            \"classifier__min_samples_leaf\": [50, 150, 200],\n",
    "            \"classifier__oob_score\": [True, False],\n",
    "        },\n",
    "    ),\n",
    "    \"Gradient Boosting\": (\n",
    "        GradientBoostingClassifier(random_state=42),\n",
    "        {\n",
    "            \"classifier__n_estimators\": [50, 100],\n",
    "            \"classifier__learning_rate\": [0.01, 0.1, 0.2],\n",
    "            \"classifier__max_depth\": [3, 5],\n",
    "        },\n",
    "    ),\n",
    "}"
   ],
   "id": "db57fc42cc0a92dd",
   "outputs": [],
   "execution_count": 19
  },
  {
   "metadata": {
    "ExecuteTime": {
     "end_time": "2025-09-16T19:48:21.690339Z",
     "start_time": "2025-09-16T19:47:09.125574Z"
    }
   },
   "cell_type": "code",
   "source": [
    "from Models_ccl import Best_Model\n",
    "grid_model=Best_Model(\n",
    "    model_and_params=model_and_params,\n",
    "    random_state=42,\n",
    "    cv=5,\n",
    "    scoring=\"accuracy\",\n",
    "    n_jobs=-1,\n",
    ")\n",
    "\n",
    "best_name, best_model=grid_model.train_model(X_ccl,Y_ccl)\n",
    "y_pred=grid_model.predict()\n",
    "# Evaluating best_performing model\n",
    "metrics = grid_model.evaluate()"
   ],
   "id": "7f0f8be050a5bcb7",
   "outputs": [
    {
     "name": "stdout",
     "output_type": "stream",
     "text": [
      "Running GridSearchCV for Logistic Regression\n",
      "Running GridSearchCV for Decision Tree\n",
      "Running GridSearchCV for Random Forest\n",
      "Running GridSearchCV for Gradient Boosting\n",
      "Best Model: Gradient Boosting, with Score: 0.9342\n",
      "\n",
      "================ Evaluation Results ================\n",
      "\n",
      " Best Model:       Gradient Boosting\n",
      "\n",
      " Best Params:      {'classifier__learning_rate': 0.1, 'classifier__max_depth': 5, 'classifier__n_estimators': 100}\n",
      "\n",
      " Best CV Score:    0.9342\n",
      "\n",
      " Accuracy:         0.9240\n",
      "\n",
      " Precision:        0.9245\n",
      "\n",
      " Recall:           0.9240\n",
      "\n",
      " F1 Score:         0.9242\n",
      "\n",
      " Confusion Matrix:\n",
      "[[566, 54], [69, 930]]\n",
      "\n",
      " Classification Report:\n",
      "\n",
      "              precision    recall  f1-score   support\n",
      "\n",
      "           0       0.89      0.91      0.90       620\n",
      "           1       0.95      0.93      0.94       999\n",
      "\n",
      "    accuracy                           0.92      1619\n",
      "   macro avg       0.92      0.92      0.92      1619\n",
      "weighted avg       0.92      0.92      0.92      1619\n",
      "\n",
      "===================================================\n",
      "\n"
     ]
    }
   ],
   "execution_count": 21
  },
  {
   "metadata": {
    "ExecuteTime": {
     "end_time": "2025-09-16T19:46:30.854689Z",
     "start_time": "2025-09-16T19:46:30.853018Z"
    }
   },
   "cell_type": "code",
   "source": "",
   "id": "27950cee57ed9886",
   "outputs": [],
   "execution_count": null
  }
 ],
 "metadata": {
  "kernelspec": {
   "display_name": "Python 3",
   "language": "python",
   "name": "python3"
  },
  "language_info": {
   "codemirror_mode": {
    "name": "ipython",
    "version": 2
   },
   "file_extension": ".py",
   "mimetype": "text/x-python",
   "name": "python",
   "nbconvert_exporter": "python",
   "pygments_lexer": "ipython2",
   "version": "2.7.6"
  }
 },
 "nbformat": 4,
 "nbformat_minor": 5
}
